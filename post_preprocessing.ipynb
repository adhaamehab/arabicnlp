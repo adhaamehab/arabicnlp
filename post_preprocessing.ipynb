{
 "cells": [
  {
   "cell_type": "markdown",
   "metadata": {},
   "source": [
    "## Arabic part of speech tagger - preprocessing notebook "
   ]
  },
  {
   "cell_type": "markdown",
   "metadata": {},
   "source": [
    "### Introduction\n",
    "\n",
    "The aim of this note is to filter and clean\n",
    "the quranic corpus morphology dataset for building arabic post tagger\n",
    "\n",
    "---\n",
    "### Goals\n",
    "\n",
    "The original dataset is seperated into two files\n",
    "\n",
    "1- Morphology tree \n",
    "\n",
    "__example__\n",
    "\n",
    "```\n",
    "(1:1:1:1),bi,P,PREFIX|bi+\n",
    "(1:1:1:2),somi,N,STEM|POS:N|LEM:{som|ROOT:smw|M|GEN\n",
    "(1:1:2:1),{ll~ahi,PN,STEM|POS:PN|LEM:{ll~ah|ROOT:Alh|GEN\n",
    "(1:1:3:1),{l,DET,PREFIX|Al+\n",
    "(1:1:3:2),r~aHomani,ADJ,STEM|POS:ADJ|LEM:r~aHoman|ROOT:rHm|MS|GEN\n",
    "(1:1:4:1),{l,DET,PREFIX|Al+\n",
    "(1:1:4:2),r~aHiymi,ADJ,STEM|POS:ADJ|LEM:r~aHiym|ROOT:rHm|MS|GEN\n",
    "(1:2:1:1),{lo,DET,PREFIX|Al+\n",
    "(1:2:1:2),Hamodu,N,STEM|POS:N|LEM:Hamod|ROOT:Hmd|M|NOM\n",
    "(1:2:2:1),li,P,PREFIX|l:P+\n",
    "(1:2:2:2),l~ahi,PN,STEM|POS:PN|LEM:{ll~ah|ROOT:Alh|GEN\n",
    "(1:2:3:1),rab~i,N,STEM|POS:N|LEM:rab~|ROOT:rbb|M|GEN\n",
    "(1:2:4:1),{lo,DET,PREFIX|Al+\n",
    "(1:2:4:2),Ealamiyna,N,STEM|POS:N|LEM:Ealamiyn|ROOT:Elm|MP|GEN\n",
    "```\n",
    "\n",
    "2- The Raw text\n",
    "\n",
    "__example__\n",
    "\n",
    "```\n",
    "c|v|t\n",
    "1|1|بِسْمِ ٱللَّهِ ٱلرَّحْمَٰنِ ٱلرَّحِيمِ\n",
    "1|2|ٱلْحَمْدُ لِلَّهِ رَبِّ ٱلْعَٰلَمِينَ\n",
    "```\n",
    "\n",
    "The goal of this note book is to build a cleaned data set\n",
    "in the form of \n",
    "\n",
    "`[[sent_1], [sent_2], ...]`\n",
    "\n",
    "`[[tagset_1], [tagset_2], ...]`\n",
    "\n",
    "Where we have N unique token and M unique tag\n",
    "\n",
    "The initial tags that we will use is\n",
    "\n",
    "\n",
    "| Word type         | Tag  | Description            |\n",
    "|-------------------|------|------------------------|\n",
    "| Noun              | N    | Noun                   |\n",
    "| Noun              | PN   | Proper noun            |\n",
    "| Derived nominals  | ADJ  | Adjective              |\n",
    "| Derived nominals  | IMPN | Imperative verbal noun |\n",
    "| Pronouns          | PRON | Personal pronoun       |\n",
    "| Pronouns          | DEM  | Demonstrative pronoun  |\n",
    "| Pronouns          | REL  | Relative pronoun       |\n",
    "| Adverbs           | T    | Time adverb            |\n",
    "| Adverbs           | LOC  | Location adverb        |\n",
    "\n",
    "Check [Here](http://corpus.quran.com/documentation/tagset.jsp) for more details about arabic tags\n"
   ]
  },
  {
   "cell_type": "code",
   "execution_count": 1,
   "metadata": {},
   "outputs": [],
   "source": [
    "import pandas as pd\n",
    "import re\n",
    "from tqdm import tqdm"
   ]
  },
  {
   "cell_type": "code",
   "execution_count": 2,
   "metadata": {},
   "outputs": [],
   "source": [
    "raw_text = pd.read_csv('data/quran-uthmani.txt', sep='|')"
   ]
  },
  {
   "cell_type": "raw",
   "metadata": {},
   "source": [
    "c for chapter\n",
    "\n",
    "v for verse\n",
    "\n",
    "t for text"
   ]
  },
  {
   "cell_type": "markdown",
   "metadata": {},
   "source": [
    "'''\n",
    "diacrtics = []\n",
    "for _, row in raw_text.iterrows():\n",
    "    text = list(row['t'])\n",
    "    diacrtics.extend([i for i in text if i not in all_chars])\n",
    "diacrtics = set(diacrtics)\n",
    "'''"
   ]
  },
  {
   "cell_type": "code",
   "execution_count": 3,
   "metadata": {},
   "outputs": [],
   "source": [
    "diacrtics = [\n",
    " 'ـ',\n",
    " 'ً',\n",
    " 'ٌ',\n",
    " 'ٍ',\n",
    " 'َ',\n",
    " 'ُ',\n",
    " 'ِ',\n",
    " 'ّ',\n",
    " 'ْ',\n",
    " 'ٓ',\n",
    " 'ٔ',\n",
    " 'ٰ',\n",
    " '',\n",
    " 'ۜ',\n",
    " '۟',\n",
    " '۠',\n",
    " 'ۢ',\n",
    " 'ۣ',\n",
    " 'ۥ',\n",
    " 'ۦ',\n",
    " 'ۨ',\n",
    " '۪',\n",
    " '۫',\n",
    " '۬',\n",
    " 'ۭ']\n"
   ]
  },
  {
   "cell_type": "code",
   "execution_count": 4,
   "metadata": {},
   "outputs": [],
   "source": [
    "def clean(text):\n",
    "    # remove_multillect\n",
    "    for i in diacrtics:\n",
    "        text = text.replace(i, '')\n",
    "    text = re.sub(\"إأآاٱ\", \"ا\", text)\n",
    "    text = re.sub(\"ى\", \"ي\", text)\n",
    "    text = re.sub(\"ؤ\", \"ء\", text)\n",
    "    text = re.sub(\"ئ\", \"ء\", text)\n",
    "    text = re.sub(\"ة\", \"ه\", text)\n",
    "    text = re.sub(\"گ\", \"ك\", text)\n",
    "    return text"
   ]
  },
  {
   "cell_type": "code",
   "execution_count": 5,
   "metadata": {},
   "outputs": [],
   "source": [
    "raw_text.t = raw_text.t.apply(lambda t: clean(t))"
   ]
  },
  {
   "cell_type": "code",
   "execution_count": 6,
   "metadata": {},
   "outputs": [],
   "source": [
    "raw_text.t = raw_text.t.apply(lambda t: t.split())"
   ]
  },
  {
   "cell_type": "code",
   "execution_count": 7,
   "metadata": {},
   "outputs": [
    {
     "data": {
      "text/html": [
       "<div>\n",
       "<style scoped>\n",
       "    .dataframe tbody tr th:only-of-type {\n",
       "        vertical-align: middle;\n",
       "    }\n",
       "\n",
       "    .dataframe tbody tr th {\n",
       "        vertical-align: top;\n",
       "    }\n",
       "\n",
       "    .dataframe thead th {\n",
       "        text-align: right;\n",
       "    }\n",
       "</style>\n",
       "<table border=\"1\" class=\"dataframe\">\n",
       "  <thead>\n",
       "    <tr style=\"text-align: right;\">\n",
       "      <th></th>\n",
       "      <th>c</th>\n",
       "      <th>v</th>\n",
       "      <th>t</th>\n",
       "    </tr>\n",
       "  </thead>\n",
       "  <tbody>\n",
       "    <tr>\n",
       "      <th>0</th>\n",
       "      <td>1</td>\n",
       "      <td>1</td>\n",
       "      <td>[بسم, ٱلله, ٱلرحمن, ٱلرحيم]</td>\n",
       "    </tr>\n",
       "    <tr>\n",
       "      <th>1</th>\n",
       "      <td>1</td>\n",
       "      <td>2</td>\n",
       "      <td>[ٱلحمد, لله, رب, ٱلعلمين]</td>\n",
       "    </tr>\n",
       "    <tr>\n",
       "      <th>2</th>\n",
       "      <td>1</td>\n",
       "      <td>3</td>\n",
       "      <td>[ٱلرحمن, ٱلرحيم]</td>\n",
       "    </tr>\n",
       "    <tr>\n",
       "      <th>3</th>\n",
       "      <td>1</td>\n",
       "      <td>4</td>\n",
       "      <td>[ملك, يوم, ٱلدين]</td>\n",
       "    </tr>\n",
       "    <tr>\n",
       "      <th>4</th>\n",
       "      <td>1</td>\n",
       "      <td>5</td>\n",
       "      <td>[إياك, نعبد, وإياك, نستعين]</td>\n",
       "    </tr>\n",
       "    <tr>\n",
       "      <th>5</th>\n",
       "      <td>1</td>\n",
       "      <td>6</td>\n",
       "      <td>[ٱهدنا, ٱلصرط, ٱلمستقيم]</td>\n",
       "    </tr>\n",
       "    <tr>\n",
       "      <th>6</th>\n",
       "      <td>1</td>\n",
       "      <td>7</td>\n",
       "      <td>[صرط, ٱلذين, أنعمت, عليهم, غير, ٱلمغضوب, عليهم...</td>\n",
       "    </tr>\n",
       "    <tr>\n",
       "      <th>7</th>\n",
       "      <td>2</td>\n",
       "      <td>1</td>\n",
       "      <td>[الم]</td>\n",
       "    </tr>\n",
       "    <tr>\n",
       "      <th>8</th>\n",
       "      <td>2</td>\n",
       "      <td>2</td>\n",
       "      <td>[ذلك, ٱلكتب, لا, ريب, فيه, هدي, للمتقين]</td>\n",
       "    </tr>\n",
       "    <tr>\n",
       "      <th>9</th>\n",
       "      <td>2</td>\n",
       "      <td>3</td>\n",
       "      <td>[ٱلذين, يءمنون, بٱلغيب, ويقيمون, ٱلصلوه, ومما,...</td>\n",
       "    </tr>\n",
       "    <tr>\n",
       "      <th>10</th>\n",
       "      <td>2</td>\n",
       "      <td>4</td>\n",
       "      <td>[وٱلذين, يءمنون, بما, أنزل, إليك, وما, أنزل, م...</td>\n",
       "    </tr>\n",
       "    <tr>\n",
       "      <th>11</th>\n",
       "      <td>2</td>\n",
       "      <td>5</td>\n",
       "      <td>[أولءك, علي, هدي, من, ربهم, وأولءك, هم, ٱلمفلحون]</td>\n",
       "    </tr>\n",
       "    <tr>\n",
       "      <th>12</th>\n",
       "      <td>2</td>\n",
       "      <td>6</td>\n",
       "      <td>[إن, ٱلذين, كفروا, سواء, عليهم, ءأنذرتهم, أم, ...</td>\n",
       "    </tr>\n",
       "    <tr>\n",
       "      <th>13</th>\n",
       "      <td>2</td>\n",
       "      <td>7</td>\n",
       "      <td>[ختم, ٱلله, علي, قلوبهم, وعلي, سمعهم, وعلي, أب...</td>\n",
       "    </tr>\n",
       "    <tr>\n",
       "      <th>14</th>\n",
       "      <td>2</td>\n",
       "      <td>8</td>\n",
       "      <td>[ومن, ٱلناس, من, يقول, ءامنا, بٱلله, وبٱليوم, ...</td>\n",
       "    </tr>\n",
       "  </tbody>\n",
       "</table>\n",
       "</div>"
      ],
      "text/plain": [
       "    c  v                                                  t\n",
       "0   1  1                        [بسم, ٱلله, ٱلرحمن, ٱلرحيم]\n",
       "1   1  2                          [ٱلحمد, لله, رب, ٱلعلمين]\n",
       "2   1  3                                   [ٱلرحمن, ٱلرحيم]\n",
       "3   1  4                                  [ملك, يوم, ٱلدين]\n",
       "4   1  5                        [إياك, نعبد, وإياك, نستعين]\n",
       "5   1  6                           [ٱهدنا, ٱلصرط, ٱلمستقيم]\n",
       "6   1  7  [صرط, ٱلذين, أنعمت, عليهم, غير, ٱلمغضوب, عليهم...\n",
       "7   2  1                                              [الم]\n",
       "8   2  2           [ذلك, ٱلكتب, لا, ريب, فيه, هدي, للمتقين]\n",
       "9   2  3  [ٱلذين, يءمنون, بٱلغيب, ويقيمون, ٱلصلوه, ومما,...\n",
       "10  2  4  [وٱلذين, يءمنون, بما, أنزل, إليك, وما, أنزل, م...\n",
       "11  2  5  [أولءك, علي, هدي, من, ربهم, وأولءك, هم, ٱلمفلحون]\n",
       "12  2  6  [إن, ٱلذين, كفروا, سواء, عليهم, ءأنذرتهم, أم, ...\n",
       "13  2  7  [ختم, ٱلله, علي, قلوبهم, وعلي, سمعهم, وعلي, أب...\n",
       "14  2  8  [ومن, ٱلناس, من, يقول, ءامنا, بٱلله, وبٱليوم, ..."
      ]
     },
     "execution_count": 7,
     "metadata": {},
     "output_type": "execute_result"
    }
   ],
   "source": [
    "raw_text.head(n=15)"
   ]
  },
  {
   "cell_type": "code",
   "execution_count": 8,
   "metadata": {},
   "outputs": [],
   "source": [
    "raw_tree = open('data/quranic-corpus-morphology-0.4.txt', 'r').readlines()"
   ]
  },
  {
   "cell_type": "code",
   "execution_count": 9,
   "metadata": {},
   "outputs": [],
   "source": [
    "def parse_node(node):\n",
    "    \n",
    "    parts = node.split(\",\")\n",
    "    p1 = parts[0].replace('(', '').replace(')', '').split(':')\n",
    "    c, v, o = p1[0], p1[1], p1[2]\n",
    "    for part in parts[1:]:\n",
    "        tag = re.search('POS:(.*?)\\|', part)\n",
    "        if tag:\n",
    "            return int(c), int(v), o, tag.group(1)\n",
    "    return False"
   ]
  },
  {
   "cell_type": "code",
   "execution_count": 10,
   "metadata": {},
   "outputs": [],
   "source": [
    "def tagged_node(node):\n",
    "    return 'POS:' in node"
   ]
  },
  {
   "cell_type": "code",
   "execution_count": 11,
   "metadata": {},
   "outputs": [],
   "source": [
    "tagged_words = []\n",
    "for row in raw_tree:\n",
    "    if tagged_node(row):\n",
    "        parsed = parse_node(row)\n",
    "        if parsed:\n",
    "            tagged_words.append(parsed)"
   ]
  },
  {
   "cell_type": "code",
   "execution_count": 12,
   "metadata": {},
   "outputs": [
    {
     "data": {
      "text/plain": [
       "([(1, 1, '1', 'N'),\n",
       "  (1, 1, '2', 'PN'),\n",
       "  (1, 1, '3', 'ADJ'),\n",
       "  (1, 1, '4', 'ADJ'),\n",
       "  (1, 2, '1', 'N'),\n",
       "  (1, 2, '2', 'PN'),\n",
       "  (1, 2, '3', 'N'),\n",
       "  (1, 2, '4', 'N'),\n",
       "  (1, 3, '1', 'ADJ'),\n",
       "  (1, 3, '2', 'ADJ')],\n",
       " 77885)"
      ]
     },
     "execution_count": 12,
     "metadata": {},
     "output_type": "execute_result"
    }
   ],
   "source": [
    "tagged_words[:10], len(tagged_words)"
   ]
  },
  {
   "cell_type": "markdown",
   "metadata": {},
   "source": [
    "Now we want to convert the data from this previous shape to the same shape as we did in raw_text"
   ]
  },
  {
   "cell_type": "code",
   "execution_count": 13,
   "metadata": {},
   "outputs": [],
   "source": [
    "tagged_words = pd.DataFrame(data=tagged_words, columns=['c', 'v', 'o', 'tag'])"
   ]
  },
  {
   "cell_type": "code",
   "execution_count": 14,
   "metadata": {},
   "outputs": [
    {
     "data": {
      "text/html": [
       "<div>\n",
       "<style scoped>\n",
       "    .dataframe tbody tr th:only-of-type {\n",
       "        vertical-align: middle;\n",
       "    }\n",
       "\n",
       "    .dataframe tbody tr th {\n",
       "        vertical-align: top;\n",
       "    }\n",
       "\n",
       "    .dataframe thead th {\n",
       "        text-align: right;\n",
       "    }\n",
       "</style>\n",
       "<table border=\"1\" class=\"dataframe\">\n",
       "  <thead>\n",
       "    <tr style=\"text-align: right;\">\n",
       "      <th></th>\n",
       "      <th>c</th>\n",
       "      <th>v</th>\n",
       "      <th>o</th>\n",
       "      <th>tag</th>\n",
       "    </tr>\n",
       "  </thead>\n",
       "  <tbody>\n",
       "    <tr>\n",
       "      <th>77880</th>\n",
       "      <td>114</td>\n",
       "      <td>5</td>\n",
       "      <td>4</td>\n",
       "      <td>N</td>\n",
       "    </tr>\n",
       "    <tr>\n",
       "      <th>77881</th>\n",
       "      <td>114</td>\n",
       "      <td>5</td>\n",
       "      <td>5</td>\n",
       "      <td>N</td>\n",
       "    </tr>\n",
       "    <tr>\n",
       "      <th>77882</th>\n",
       "      <td>114</td>\n",
       "      <td>6</td>\n",
       "      <td>1</td>\n",
       "      <td>P</td>\n",
       "    </tr>\n",
       "    <tr>\n",
       "      <th>77883</th>\n",
       "      <td>114</td>\n",
       "      <td>6</td>\n",
       "      <td>2</td>\n",
       "      <td>N</td>\n",
       "    </tr>\n",
       "    <tr>\n",
       "      <th>77884</th>\n",
       "      <td>114</td>\n",
       "      <td>6</td>\n",
       "      <td>3</td>\n",
       "      <td>N</td>\n",
       "    </tr>\n",
       "  </tbody>\n",
       "</table>\n",
       "</div>"
      ],
      "text/plain": [
       "         c  v  o tag\n",
       "77880  114  5  4   N\n",
       "77881  114  5  5   N\n",
       "77882  114  6  1   P\n",
       "77883  114  6  2   N\n",
       "77884  114  6  3   N"
      ]
     },
     "execution_count": 14,
     "metadata": {},
     "output_type": "execute_result"
    }
   ],
   "source": [
    "tagged_words.tail(n=5)"
   ]
  },
  {
   "cell_type": "code",
   "execution_count": 15,
   "metadata": {},
   "outputs": [],
   "source": [
    "#tagged_words.tag = tagged_words.tag.apply(lambda t: [t])\n",
    "tagged_words.sort_values(['c', 'v', 'o'], inplace=True)"
   ]
  },
  {
   "cell_type": "code",
   "execution_count": 16,
   "metadata": {},
   "outputs": [
    {
     "data": {
      "text/html": [
       "<div>\n",
       "<style scoped>\n",
       "    .dataframe tbody tr th:only-of-type {\n",
       "        vertical-align: middle;\n",
       "    }\n",
       "\n",
       "    .dataframe tbody tr th {\n",
       "        vertical-align: top;\n",
       "    }\n",
       "\n",
       "    .dataframe thead th {\n",
       "        text-align: right;\n",
       "    }\n",
       "</style>\n",
       "<table border=\"1\" class=\"dataframe\">\n",
       "  <thead>\n",
       "    <tr style=\"text-align: right;\">\n",
       "      <th></th>\n",
       "      <th>c</th>\n",
       "      <th>v</th>\n",
       "      <th>o</th>\n",
       "      <th>tag</th>\n",
       "    </tr>\n",
       "  </thead>\n",
       "  <tbody>\n",
       "    <tr>\n",
       "      <th>0</th>\n",
       "      <td>1</td>\n",
       "      <td>1</td>\n",
       "      <td>1</td>\n",
       "      <td>N</td>\n",
       "    </tr>\n",
       "    <tr>\n",
       "      <th>1</th>\n",
       "      <td>1</td>\n",
       "      <td>1</td>\n",
       "      <td>2</td>\n",
       "      <td>PN</td>\n",
       "    </tr>\n",
       "    <tr>\n",
       "      <th>2</th>\n",
       "      <td>1</td>\n",
       "      <td>1</td>\n",
       "      <td>3</td>\n",
       "      <td>ADJ</td>\n",
       "    </tr>\n",
       "    <tr>\n",
       "      <th>3</th>\n",
       "      <td>1</td>\n",
       "      <td>1</td>\n",
       "      <td>4</td>\n",
       "      <td>ADJ</td>\n",
       "    </tr>\n",
       "    <tr>\n",
       "      <th>4</th>\n",
       "      <td>1</td>\n",
       "      <td>2</td>\n",
       "      <td>1</td>\n",
       "      <td>N</td>\n",
       "    </tr>\n",
       "  </tbody>\n",
       "</table>\n",
       "</div>"
      ],
      "text/plain": [
       "   c  v  o  tag\n",
       "0  1  1  1    N\n",
       "1  1  1  2   PN\n",
       "2  1  1  3  ADJ\n",
       "3  1  1  4  ADJ\n",
       "4  1  2  1    N"
      ]
     },
     "execution_count": 16,
     "metadata": {},
     "output_type": "execute_result"
    }
   ],
   "source": [
    "tagged_words.head()"
   ]
  },
  {
   "cell_type": "code",
   "execution_count": 17,
   "metadata": {},
   "outputs": [],
   "source": [
    "tagset = pd.DataFrame(columns=['c', 'v', 'tags'])\n",
    "i = 0\n",
    "chs = set(tagged_words.c.values)"
   ]
  },
  {
   "cell_type": "code",
   "execution_count": 18,
   "metadata": {},
   "outputs": [
    {
     "name": "stderr",
     "output_type": "stream",
     "text": [
      "100%|██████████| 114/114 [00:19<00:00,  5.74it/s]\n"
     ]
    }
   ],
   "source": [
    "for ch in tqdm(chs, total=len(chs)):\n",
    "    verses = set(tagged_words[tagged_words.c == ch].v.values)\n",
    "    for verse in verses:\n",
    "        tags = tagged_words[(tagged_words.c == ch) & (tagged_words.v == verse)].tag.values.tolist()\n",
    "        tagset.loc[i] = [ch, verse, tags]\n",
    "        i += 1"
   ]
  },
  {
   "cell_type": "code",
   "execution_count": 19,
   "metadata": {},
   "outputs": [],
   "source": [
    "tagset.c = tagset.c.apply(lambda c: int(c))\n",
    "tagset.v = tagset.v.apply(lambda v: int(v))"
   ]
  },
  {
   "cell_type": "code",
   "execution_count": 20,
   "metadata": {},
   "outputs": [
    {
     "data": {
      "text/html": [
       "<div>\n",
       "<style scoped>\n",
       "    .dataframe tbody tr th:only-of-type {\n",
       "        vertical-align: middle;\n",
       "    }\n",
       "\n",
       "    .dataframe tbody tr th {\n",
       "        vertical-align: top;\n",
       "    }\n",
       "\n",
       "    .dataframe thead th {\n",
       "        text-align: right;\n",
       "    }\n",
       "</style>\n",
       "<table border=\"1\" class=\"dataframe\">\n",
       "  <thead>\n",
       "    <tr style=\"text-align: right;\">\n",
       "      <th></th>\n",
       "      <th>c</th>\n",
       "      <th>v</th>\n",
       "      <th>tags</th>\n",
       "    </tr>\n",
       "  </thead>\n",
       "  <tbody>\n",
       "    <tr>\n",
       "      <th>0</th>\n",
       "      <td>1</td>\n",
       "      <td>1</td>\n",
       "      <td>[N, PN, ADJ, ADJ]</td>\n",
       "    </tr>\n",
       "    <tr>\n",
       "      <th>1</th>\n",
       "      <td>1</td>\n",
       "      <td>2</td>\n",
       "      <td>[N, PN, N, N]</td>\n",
       "    </tr>\n",
       "    <tr>\n",
       "      <th>2</th>\n",
       "      <td>1</td>\n",
       "      <td>3</td>\n",
       "      <td>[ADJ, ADJ]</td>\n",
       "    </tr>\n",
       "    <tr>\n",
       "      <th>3</th>\n",
       "      <td>1</td>\n",
       "      <td>4</td>\n",
       "      <td>[N, N, N]</td>\n",
       "    </tr>\n",
       "    <tr>\n",
       "      <th>4</th>\n",
       "      <td>1</td>\n",
       "      <td>5</td>\n",
       "      <td>[PRON, V, PRON, V]</td>\n",
       "    </tr>\n",
       "  </tbody>\n",
       "</table>\n",
       "</div>"
      ],
      "text/plain": [
       "   c  v                tags\n",
       "0  1  1   [N, PN, ADJ, ADJ]\n",
       "1  1  2       [N, PN, N, N]\n",
       "2  1  3          [ADJ, ADJ]\n",
       "3  1  4           [N, N, N]\n",
       "4  1  5  [PRON, V, PRON, V]"
      ]
     },
     "execution_count": 20,
     "metadata": {},
     "output_type": "execute_result"
    }
   ],
   "source": [
    "tagset.head()"
   ]
  },
  {
   "cell_type": "code",
   "execution_count": 21,
   "metadata": {},
   "outputs": [
    {
     "data": {
      "text/html": [
       "<div>\n",
       "<style scoped>\n",
       "    .dataframe tbody tr th:only-of-type {\n",
       "        vertical-align: middle;\n",
       "    }\n",
       "\n",
       "    .dataframe tbody tr th {\n",
       "        vertical-align: top;\n",
       "    }\n",
       "\n",
       "    .dataframe thead th {\n",
       "        text-align: right;\n",
       "    }\n",
       "</style>\n",
       "<table border=\"1\" class=\"dataframe\">\n",
       "  <thead>\n",
       "    <tr style=\"text-align: right;\">\n",
       "      <th></th>\n",
       "      <th>c</th>\n",
       "      <th>v</th>\n",
       "      <th>t</th>\n",
       "    </tr>\n",
       "  </thead>\n",
       "  <tbody>\n",
       "    <tr>\n",
       "      <th>0</th>\n",
       "      <td>1</td>\n",
       "      <td>1</td>\n",
       "      <td>[بسم, ٱلله, ٱلرحمن, ٱلرحيم]</td>\n",
       "    </tr>\n",
       "    <tr>\n",
       "      <th>1</th>\n",
       "      <td>1</td>\n",
       "      <td>2</td>\n",
       "      <td>[ٱلحمد, لله, رب, ٱلعلمين]</td>\n",
       "    </tr>\n",
       "    <tr>\n",
       "      <th>2</th>\n",
       "      <td>1</td>\n",
       "      <td>3</td>\n",
       "      <td>[ٱلرحمن, ٱلرحيم]</td>\n",
       "    </tr>\n",
       "    <tr>\n",
       "      <th>3</th>\n",
       "      <td>1</td>\n",
       "      <td>4</td>\n",
       "      <td>[ملك, يوم, ٱلدين]</td>\n",
       "    </tr>\n",
       "    <tr>\n",
       "      <th>4</th>\n",
       "      <td>1</td>\n",
       "      <td>5</td>\n",
       "      <td>[إياك, نعبد, وإياك, نستعين]</td>\n",
       "    </tr>\n",
       "    <tr>\n",
       "      <th>5</th>\n",
       "      <td>1</td>\n",
       "      <td>6</td>\n",
       "      <td>[ٱهدنا, ٱلصرط, ٱلمستقيم]</td>\n",
       "    </tr>\n",
       "    <tr>\n",
       "      <th>6</th>\n",
       "      <td>1</td>\n",
       "      <td>7</td>\n",
       "      <td>[صرط, ٱلذين, أنعمت, عليهم, غير, ٱلمغضوب, عليهم...</td>\n",
       "    </tr>\n",
       "    <tr>\n",
       "      <th>7</th>\n",
       "      <td>2</td>\n",
       "      <td>1</td>\n",
       "      <td>[الم]</td>\n",
       "    </tr>\n",
       "    <tr>\n",
       "      <th>8</th>\n",
       "      <td>2</td>\n",
       "      <td>2</td>\n",
       "      <td>[ذلك, ٱلكتب, لا, ريب, فيه, هدي, للمتقين]</td>\n",
       "    </tr>\n",
       "    <tr>\n",
       "      <th>9</th>\n",
       "      <td>2</td>\n",
       "      <td>3</td>\n",
       "      <td>[ٱلذين, يءمنون, بٱلغيب, ويقيمون, ٱلصلوه, ومما,...</td>\n",
       "    </tr>\n",
       "  </tbody>\n",
       "</table>\n",
       "</div>"
      ],
      "text/plain": [
       "   c  v                                                  t\n",
       "0  1  1                        [بسم, ٱلله, ٱلرحمن, ٱلرحيم]\n",
       "1  1  2                          [ٱلحمد, لله, رب, ٱلعلمين]\n",
       "2  1  3                                   [ٱلرحمن, ٱلرحيم]\n",
       "3  1  4                                  [ملك, يوم, ٱلدين]\n",
       "4  1  5                        [إياك, نعبد, وإياك, نستعين]\n",
       "5  1  6                           [ٱهدنا, ٱلصرط, ٱلمستقيم]\n",
       "6  1  7  [صرط, ٱلذين, أنعمت, عليهم, غير, ٱلمغضوب, عليهم...\n",
       "7  2  1                                              [الم]\n",
       "8  2  2           [ذلك, ٱلكتب, لا, ريب, فيه, هدي, للمتقين]\n",
       "9  2  3  [ٱلذين, يءمنون, بٱلغيب, ويقيمون, ٱلصلوه, ومما,..."
      ]
     },
     "execution_count": 21,
     "metadata": {},
     "output_type": "execute_result"
    }
   ],
   "source": [
    "raw_text.head(n=10)"
   ]
  },
  {
   "cell_type": "code",
   "execution_count": 23,
   "metadata": {},
   "outputs": [],
   "source": [
    "final_set = raw_text.merge(tagset, how='right', left_on=['c', 'v'], right_on=['c', 'v'])"
   ]
  },
  {
   "cell_type": "code",
   "execution_count": 24,
   "metadata": {},
   "outputs": [
    {
     "data": {
      "text/html": [
       "<div>\n",
       "<style scoped>\n",
       "    .dataframe tbody tr th:only-of-type {\n",
       "        vertical-align: middle;\n",
       "    }\n",
       "\n",
       "    .dataframe tbody tr th {\n",
       "        vertical-align: top;\n",
       "    }\n",
       "\n",
       "    .dataframe thead th {\n",
       "        text-align: right;\n",
       "    }\n",
       "</style>\n",
       "<table border=\"1\" class=\"dataframe\">\n",
       "  <thead>\n",
       "    <tr style=\"text-align: right;\">\n",
       "      <th></th>\n",
       "      <th>c</th>\n",
       "      <th>v</th>\n",
       "      <th>t</th>\n",
       "      <th>tags</th>\n",
       "    </tr>\n",
       "  </thead>\n",
       "  <tbody>\n",
       "    <tr>\n",
       "      <th>0</th>\n",
       "      <td>1</td>\n",
       "      <td>1</td>\n",
       "      <td>[بسم, ٱلله, ٱلرحمن, ٱلرحيم]</td>\n",
       "      <td>[N, PN, ADJ, ADJ]</td>\n",
       "    </tr>\n",
       "    <tr>\n",
       "      <th>1</th>\n",
       "      <td>1</td>\n",
       "      <td>2</td>\n",
       "      <td>[ٱلحمد, لله, رب, ٱلعلمين]</td>\n",
       "      <td>[N, PN, N, N]</td>\n",
       "    </tr>\n",
       "    <tr>\n",
       "      <th>2</th>\n",
       "      <td>1</td>\n",
       "      <td>3</td>\n",
       "      <td>[ٱلرحمن, ٱلرحيم]</td>\n",
       "      <td>[ADJ, ADJ]</td>\n",
       "    </tr>\n",
       "    <tr>\n",
       "      <th>3</th>\n",
       "      <td>1</td>\n",
       "      <td>4</td>\n",
       "      <td>[ملك, يوم, ٱلدين]</td>\n",
       "      <td>[N, N, N]</td>\n",
       "    </tr>\n",
       "    <tr>\n",
       "      <th>4</th>\n",
       "      <td>1</td>\n",
       "      <td>5</td>\n",
       "      <td>[إياك, نعبد, وإياك, نستعين]</td>\n",
       "      <td>[PRON, V, PRON, V]</td>\n",
       "    </tr>\n",
       "  </tbody>\n",
       "</table>\n",
       "</div>"
      ],
      "text/plain": [
       "   c  v                            t                tags\n",
       "0  1  1  [بسم, ٱلله, ٱلرحمن, ٱلرحيم]   [N, PN, ADJ, ADJ]\n",
       "1  1  2    [ٱلحمد, لله, رب, ٱلعلمين]       [N, PN, N, N]\n",
       "2  1  3             [ٱلرحمن, ٱلرحيم]          [ADJ, ADJ]\n",
       "3  1  4            [ملك, يوم, ٱلدين]           [N, N, N]\n",
       "4  1  5  [إياك, نعبد, وإياك, نستعين]  [PRON, V, PRON, V]"
      ]
     },
     "execution_count": 24,
     "metadata": {},
     "output_type": "execute_result"
    }
   ],
   "source": [
    "final_set.head()"
   ]
  },
  {
   "cell_type": "code",
   "execution_count": 25,
   "metadata": {},
   "outputs": [],
   "source": [
    "final_set.to_pickle('data/tagset.pickle')"
   ]
  },
  {
   "cell_type": "markdown",
   "metadata": {},
   "source": [
    "## Thanks"
   ]
  }
 ],
 "metadata": {
  "kernelspec": {
   "display_name": "Python 3",
   "language": "python",
   "name": "python3"
  },
  "language_info": {
   "codemirror_mode": {
    "name": "ipython",
    "version": 3
   },
   "file_extension": ".py",
   "mimetype": "text/x-python",
   "name": "python",
   "nbconvert_exporter": "python",
   "pygments_lexer": "ipython3",
   "version": "3.6.6"
  }
 },
 "nbformat": 4,
 "nbformat_minor": 2
}
